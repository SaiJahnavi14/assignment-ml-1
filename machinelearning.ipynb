{
 "cells": [
  {
   "cell_type": "code",
   "execution_count": 92,
   "id": "7b414393",
   "metadata": {},
   "outputs": [
    {
     "name": "stdout",
     "output_type": "stream",
     "text": [
      "sorted list [19, 19, 20, 22, 24, 24, 24, 25, 25, 26]\n",
      "minimum ages 19 and maximum age 26\n",
      "[19, 26, 19, 19, 20, 22, 24, 24, 24, 25, 25, 26]\n",
      "median 24.0\n",
      "average 22.75\n",
      "range 7\n"
     ]
    }
   ],
   "source": [
    "import math\n",
    "ages = [19, 22, 19, 24, 20, 25, 26, 24, 25, 24]\n",
    "ages.sort()# sorting ages using sort() method\n",
    "print(\"sorted list\",ages)\n",
    "print(\"minimum ages\",min(ages), \"and maximum age\", max(ages) )# printing the minimum and maximum values of list ages\n",
    "ages.insert(0,(min(ages)))\n",
    "ages.insert(1,(max(ages)))\n",
    "print(ages)# list after adding the minimum and maximum values to the list \n",
    "import numpy as np\n",
    "print(\"median\",np.median(ages))# prints median value for list ages\n",
    "avg=sum(ages)/len(ages)\n",
    "print(\"average\",avg)# prints the average value of ages\n",
    "print(\"range\",max(ages)-min(ages))# print range which is max-min(26-19=7)\n"
   ]
  },
  {
   "cell_type": "code",
   "execution_count": 93,
   "id": "53fc08df",
   "metadata": {},
   "outputs": [
    {
     "name": "stdout",
     "output_type": "stream",
     "text": [
      "{('name', 'color', 'breed', 'legs', 'age'): ''}\n",
      "{'first_name': 'Sai Jahnavi', 'Last_name': 'Dandamudi', 'gender': 'female', 'age': 22, 'marital status': 'single', 'skills': ['python'], 'country': 'United States', 'city': 'kansas', 'address': 'Overland park'}\n",
      "length 9\n",
      "skills ['python'] <class 'list'>\n",
      "keys = dict_keys(['first_name', 'Last_name', 'gender', 'age', 'marital status', 'skills', 'country', 'city', 'address'])\n",
      "values = ['Sai Jahnavi', 'Dandamudi', 'female', 22, 'single', ['python', 'python', 'c++'], 'United States', 'kansas', 'Overland park']\n"
     ]
    }
   ],
   "source": [
    "dog=dict()# creating an empty dictionary name dog\n",
    "dog[(\"name\",\"color\",\"breed\",\"legs\",\"age\")] =''# tuples are hashable objects so they can be used as key-value pairs\n",
    "print(dog)\n",
    "student={'first_name': 'Sai Jahnavi','Last_name': 'Dandamudi', 'gender': 'female','age':22,'marital status': 'single',\n",
    "'skills': ['python'], 'country':'United States', 'city':'kansas','address':'Overland park'}\n",
    "print(student)\n",
    "print(\"length\",len(student))#prints length by using len()\n",
    "print(\"skills\",student[\"skills\"], type(student[\"skills\"]))# getting particular keys from the dictionary and getting its type\n",
    "student[\"skills\"]= student[\"skills\"]+[\"python\",\"c++\"]# adding values to the skills\n",
    "print(\"keys =\",student.keys()) #prints all keys in he dictionary\n",
    "print(\"values =\",list(student.values()))#  type conversion"
   ]
  },
  {
   "cell_type": "code",
   "execution_count": 94,
   "id": "765dfc17",
   "metadata": {},
   "outputs": [
    {
     "name": "stdout",
     "output_type": "stream",
     "text": [
      " my siblings are  ('john', 'jay', 'joe', 'siri')\n",
      "i have 4 siblings\n",
      "family members ('ram', 'rama', 'john', 'jay', 'joe', 'siri')\n"
     ]
    }
   ],
   "source": [
    "brothers=(\"john\",\"jay\")\n",
    "sisters=(\"joe\",\"siri\")\n",
    "siblings=brothers+sisters# by using + operator we can combine 2 typles\n",
    "print(\" my siblings are \", siblings)\n",
    "print(\"i have\",len(siblings),\"siblings\")\n",
    "siblings= (\"ram\",\"rama\")+siblings# adding values to typle\n",
    "family_members=siblings\n",
    "print(\"family members\", family_members)"
   ]
  },
  {
   "cell_type": "code",
   "execution_count": 58,
   "id": "0f7a6baf",
   "metadata": {},
   "outputs": [
    {
     "name": "stdout",
     "output_type": "stream",
     "text": [
      "length  7\n",
      "after adding new it company - {'Google', 'Oracle', 'Apple', 'twitter', 'IBM', 'Facebook', 'Amazon', 'Microsoft'}\n",
      "after adding multiple companies - {'Apple', 'IBM', 'Facebook', 'Amazon', 'tcs', 'twitter', 'Google', 'wipro', 'Oracle', 'cognizant', 'Microsoft'}\n",
      "after removing a company from set - {'Apple', 'IBM', 'Facebook', 'Amazon', 'twitter', 'Google', 'wipro', 'Oracle', 'cognizant', 'Microsoft'}\n",
      "A union B {19, 20, 22, 24, 25, 26, 27, 28}\n",
      "A inersection of B  {19, 20, 22, 24, 25, 26}\n",
      "is A subset of B True\n",
      "are a and b disjiont sets False\n",
      "the symmetric difference between A and B {27, 28}\n",
      "deleting a set()\n",
      "deleting b set()\n",
      "converting ages to sets {19, 22, 24, 25, 26}\n",
      "comparing the length of list and set 3\n"
     ]
    }
   ],
   "source": [
    "it_companies = {'Facebook', 'Google', 'Microsoft', 'Apple', 'IBM', 'Oracle', 'Amazon'}\n",
    "A = {19, 22, 24, 20, 25, 26}\n",
    "B = {19, 22, 20, 25, 26, 24, 28, 27}\n",
    "age = [22, 19, 24, 25, 26, 24, 25, 24]\n",
    "print(\"length \",len(it_companies))\n",
    "it_companies.add(\"twitter\")\n",
    "print(\"after adding new it company -\",it_companies)\n",
    "it_companies.update([\"tcs\",\"wipro\",\"cognizant\"])\n",
    "print(\"after adding multiple companies -\",it_companies)\n",
    "it_companies.remove(\"tcs\")\n",
    "print(\"after removing a company from set -\",it_companies)\n",
    "## remove will raise an error if the value does't exit but discard will not raise any error \n",
    "A_union_B= A.union(B) # union() this operator is used to join 2 sets\n",
    "print(\"A union B\", A_union_B)\n",
    "A_intersection_B= A.intersection(B)# intersection() it will return the common data in both sets\n",
    "print(\"A inersection of B \", A_intersection_B)\n",
    "print(\"is A subset of B\", A.issubset(B))# issubset() returns true if it is a subset of a else return false\n",
    "print(\"are a and b disjiont sets\", A.isdisjoint(B))# it returns boolean values weather a is disjoint of b or not\n",
    "print(\"the symmetric difference between A and B\", A.symmetric_difference(B))\n",
    "A.clear()#clear is used to clear(delete) the set\n",
    "B.clear()\n",
    "print(\"deleting a\",A)\n",
    "print(\"deleting b\",B)\n",
    "age_set=set(age)\n",
    "print(\"converting ages to sets\",age_set)\n",
    "print(\"comparing the length of list and set\",len(age)-len(age_set))"
   ]
  },
  {
   "cell_type": "code",
   "execution_count": 95,
   "id": "31b21216",
   "metadata": {},
   "outputs": [
    {
     "name": "stdout",
     "output_type": "stream",
     "text": [
      "enter radius30\n",
      "area of circle 2826.0\n",
      "circumference of circle 188.4\n"
     ]
    }
   ],
   "source": [
    "radius= int(input(\"enter radius\"))# takes input from the user\n",
    "_area_of_circle=3.14*(radius**2)\n",
    "_circum_of_circle =2*3.14*radius\n",
    "print(\"area of circle\",_area_of_circle)\n",
    "print(\"circumference of circle\",_circum_of_circle)"
   ]
  },
  {
   "cell_type": "code",
   "execution_count": 96,
   "id": "6a565b3f",
   "metadata": {},
   "outputs": [
    {
     "name": "stdout",
     "output_type": "stream",
     "text": [
      "unique letters are {'teacher', 'people', 'and', 'to', 'a', 'love', 'I', 'inspire', 'teach', 'am'}\n",
      "no.of unique words 10\n"
     ]
    }
   ],
   "source": [
    "X=\"I am a teacher and I love to inspire and teach people\"\n",
    "unique_letter= set(X.split())\n",
    "print(\"unique letters are\",unique_letter)\n",
    "print(\"no.of unique words\",len(unique_letter))"
   ]
  },
  {
   "cell_type": "code",
   "execution_count": 97,
   "id": "60b2807f",
   "metadata": {},
   "outputs": [
    {
     "name": "stdout",
     "output_type": "stream",
     "text": [
      "Name    \tAge\tCountry \tCity\n",
      "Asabeneh\t250\tFinland \tHelsinki\n"
     ]
    }
   ],
   "source": [
    "print(\"Name    \\tAge\\tCountry \\tCity\\nAsabeneh\\t250\\tFinland \\tHelsinki\")"
   ]
  },
  {
   "cell_type": "code",
   "execution_count": 98,
   "id": "17db91f5",
   "metadata": {},
   "outputs": [
    {
     "name": "stdout",
     "output_type": "stream",
     "text": [
      "The area of a circle with radius 10 is 314.0 meters square\n"
     ]
    }
   ],
   "source": [
    "radius=10\n",
    "area=3.14 * radius ** 2\n",
    "print(\"The area of a circle with radius %s is %s meters square\" %(radius,area))"
   ]
  },
  {
   "cell_type": "code",
   "execution_count": 99,
   "id": "e13d74a4",
   "metadata": {},
   "outputs": [
    {
     "name": "stdout",
     "output_type": "stream",
     "text": [
      "Enter no of students 4\n",
      "enter weight of 0 150\n",
      "enter weight of 1 145\n",
      "enter weight of 2 155\n",
      "enter weight of 3 148\n",
      "Weights in Lb [150, 145, 155, 148]\n",
      "Weights in Kg [68.04, 65.77, 70.31, 67.13]\n"
     ]
    }
   ],
   "source": [
    "NoofStudents = int(input(\"Enter no of students \"))\n",
    "weights_in_lbs=[]\n",
    "weights_in_kgs=[]\n",
    "for student in range(NoofStudents):\n",
    "    weights_in_lbs.append(int(input(\"enter weight of \"+str(student)+\" \")))#taking input  from user and appending to the list\n",
    "    weights_in_kgs.append(round(weights_in_lbs[student]*0.453592,2))#using mathematical operators coverting lbs to kgs \n",
    "print(\"Weights in Lb\",weights_in_lbs)\n",
    "print(\"Weights in Kg\",weights_in_kgs) #displaying output of weights in lbs and kgs"
   ]
  },
  {
   "cell_type": "code",
   "execution_count": 100,
   "id": "f30dff1f",
   "metadata": {},
   "outputs": [
    {
     "name": "stdout",
     "output_type": "stream",
     "text": [
      "training:1o,2o,3x,6x\n",
      " testing:6x,7o,10o,11o\n",
      "TN:1\tFP:0\n",
      "FN:0\tFP:5\n",
      "Sensitivity:1\n",
      "Accuracy:1/nSpecificity:1\n"
     ]
    }
   ],
   "source": [
    "print(\"training:1o,2o,3x,6x\\n testing:6x,7o,10o,11o\")\n",
    "print(\"TN:1\\tFP:0\\nFN:0\\tFP:5\\nSensitivity:1\\nAccuracy:1/nSpecificity:1\")"
   ]
  },
  {
   "cell_type": "code",
   "execution_count": null,
   "id": "c53fa2b1",
   "metadata": {},
   "outputs": [],
   "source": []
  }
 ],
 "metadata": {
  "kernelspec": {
   "display_name": "Python 3 (ipykernel)",
   "language": "python",
   "name": "python3"
  },
  "language_info": {
   "codemirror_mode": {
    "name": "ipython",
    "version": 3
   },
   "file_extension": ".py",
   "mimetype": "text/x-python",
   "name": "python",
   "nbconvert_exporter": "python",
   "pygments_lexer": "ipython3",
   "version": "3.9.7"
  }
 },
 "nbformat": 4,
 "nbformat_minor": 5
}
